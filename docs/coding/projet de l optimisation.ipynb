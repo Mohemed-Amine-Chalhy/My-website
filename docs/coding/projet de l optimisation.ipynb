{
 "cells": [
  {
   "cell_type": "markdown",
   "id": "7e10fc76-cc3e-4098-bbbe-ac8fa61743df",
   "metadata": {},
   "source": [
    "## 1. Contexte\n",
    "L’optimisation de la production des fruits rouges en serres est cruciale pour maximiser le rendement et la qualité des fruits tout en minimisant les coûts et l’impact environnemental. Ce document présente une analyse approfondie des différentes variétés de fruits, des méthodes de plantation, des scénarios de production, et des contraintes spécifiques associées."
   ]
  },
  {
   "cell_type": "markdown",
   "id": "2658971d-1eb6-450c-87dc-f8d210b6bd09",
   "metadata": {},
   "source": [
    "Importation des librairies :"
   ]
  },
  {
   "cell_type": "code",
   "execution_count": 1,
   "id": "3f55c6d3-bba4-4a4b-a332-828150843d40",
   "metadata": {},
   "outputs": [],
   "source": [
    "import pandas as pd\n",
    "import numpy as np\n",
    "import pulp\n",
    "import datetime\n",
    "import calendar"
   ]
  },
  {
   "cell_type": "markdown",
   "id": "b4340666-47df-4f70-8d23-3e0c9f84f25f",
   "metadata": {},
   "source": [
    "Importation des données à travers la librairie \"pandas\""
   ]
  },
  {
   "cell_type": "code",
   "execution_count": 2,
   "id": "f535469c-cfb9-4b3e-ad31-4f42251a1215",
   "metadata": {},
   "outputs": [],
   "source": [
    "##Importation des base de donnes \n",
    "\n",
    "CVar = pd.read_csv(\"Charges_var.csv\"  ) \n",
    "Prices = pd.read_csv(\"Prices.csv\")\n",
    "Production = pd.read_csv(\"Production.csv\")\n",
    "Simulation = pd.read_csv(\"Simulation.csv\")\n"
   ]
  },
  {
   "cell_type": "markdown",
   "id": "74798da7-8e10-4890-b74a-d1755d7d58a3",
   "metadata": {},
   "source": [
    "### Fonction `get_weeks_for_month` pour la conversion d'un mois aux semaines correspondantes\n",
    "\n",
    "La fonction `get_weeks_for_month` permet de convertir un mois donné en les semaines correspondantes. Cette fonction est particulièrement utile pour des applications d'optimisation de la production où la gestion des périodes de plantation et de récolte est essentielle.\n"
   ]
  },
  {
   "cell_type": "code",
   "execution_count": 3,
   "id": "fb984aa3-936a-40d6-a73b-4ca5475104cc",
   "metadata": {},
   "outputs": [],
   "source": [
    "def get_weeks_for_month(month_name):  #Donner les semaines par ordre pour chaque mois de 2024\n",
    "    \n",
    "    month_to_weeks = {\n",
    "        'janvier': [1, 2, 3, 4, 5],\n",
    "        'fevrier': [6, 7, 8, 9],\n",
    "        'mars': [10, 11, 12, 13],\n",
    "        'avril': [14, 15, 16, 17,18],\n",
    "        'mai': [19, 20, 21, 22],\n",
    "        'juin': [23, 24, 25, 26],\n",
    "        'juillet': [27, 28, 29, 30, 31],\n",
    "        'aout': [32, 33, 34, 35],\n",
    "        'septembre': [36, 37, 38, 39, 40],\n",
    "        'octobre': [41, 42, 43, 44],\n",
    "        'novembre': [45, 46, 47, 48],\n",
    "        'decembre': [49, 50, 51, 52 ]\n",
    "    }\n",
    "    \n",
    "    return month_to_weeks.get(month_name.lower(), \"Month not recognized\")"
   ]
  },
  {
   "cell_type": "markdown",
   "id": "d57e6d0c-1070-4ee1-8e2c-15cce35cc441",
   "metadata": {},
   "source": [
    "Exemple :"
   ]
  },
  {
   "cell_type": "code",
   "execution_count": 4,
   "id": "2969b0a1-880b-4c50-bc8a-574b8d586660",
   "metadata": {},
   "outputs": [
    {
     "data": {
      "text/plain": [
       "[1, 2, 3, 4, 5]"
      ]
     },
     "execution_count": 4,
     "metadata": {},
     "output_type": "execute_result"
    }
   ],
   "source": [
    "get_weeks_for_month('janvier')"
   ]
  },
  {
   "cell_type": "markdown",
   "id": "b9888cd2-2490-4068-a7cc-c62cd76d99b1",
   "metadata": {},
   "source": [
    "## CA et CV\n",
    "On doit calculer le chiffre d’affaire et charge variable par (serre, scenario et semaine de plantation).\n",
    "\\\n",
    "\\begin{align*}\n",
    "CA(i, j, t') &= \\sum_{t=0}^{37} \\text{prod}(j, t) \\times \\text{surface}(i) \\times \\text{prix}(j, t' + t + \\text{delai}(j)) \\\\\n",
    "CV(i, j) &= \\text{surface}(i) \\times \\text{Charges}(j)\n",
    "\\end{align*}\n",
    "\\\n",
    "avec \\( i \\) la serre, \\( j \\) le scénario, et \\( t' \\) la semaine de plantation."
   ]
  },
  {
   "cell_type": "code",
   "execution_count": 5,
   "id": "56883399-06b4-43b0-b158-2d95b25419c0",
   "metadata": {},
   "outputs": [],
   "source": [
    "def CV(i,j) :\n",
    "    return Simulation.loc[Simulation['serre'] == i ].iloc[0, 2]  * CVar.loc[CVar[\"Scénario\"] == j].iloc[0 ,6]"
   ]
  },
  {
   "cell_type": "code",
   "execution_count": 6,
   "id": "5b69f90d-e20b-4fda-ae68-0b8a7deae283",
   "metadata": {},
   "outputs": [],
   "source": [
    "D = { 'Framboise' : 0 , 'Mure' : 1} #dictionnaire utile pour trouver le prix en fonction de scenario"
   ]
  },
  {
   "cell_type": "markdown",
   "id": "128792da-8519-4f9c-b142-25f4c389b3dc",
   "metadata": {},
   "source": [
    "\n",
    "## Remarque\n",
    "\n",
    "Il est important de noter que la base de données ne contient pas d'informations sur les prix pour une semaine au-delà de la 90ème. Par conséquent, deux options s'offrent à nous :\n",
    "\n",
    "1. Annuler le revenu de toutes les semaines après la 90ème semaine.\n",
    "2. Noter que la courbe des prix semble périodique, et choisir de vendre au prix de la semaine n-90 lorsque le numéro de la semaine n dépasse 90.\n",
    "\n",
    "Cependant, dans le cadre de cette base de données, les deux choix conduisent à la même solution optimale.\n"
   ]
  },
  {
   "cell_type": "code",
   "execution_count": 7,
   "id": "4ebaa102-0642-4055-8390-8b30cea2b2d9",
   "metadata": {},
   "outputs": [],
   "source": [
    "def CA(i, j, t1) :     ##Calcule de chiffre d'affaire\n",
    "    S = 0  \n",
    "    for t in range(1,38):\n",
    "        t_t1_Production = t + t1 + Production.loc[Production['Scénario'] == j].iloc[0,6]\n",
    "        t_t1_Production_mod = ((t_t1_Production - 1) % 90) + 1\n",
    "\n",
    "        S += Production.loc[Production['Scénario'] == j, f'W{t}'].iloc[0] * Simulation.loc[Simulation['serre'] == i].iloc[0,2] * Prices.iloc[D[Production.loc[Production['Scénario'] == j ,'Culture'].iloc[0]], t_t1_Production_mod]\n",
    "\n",
    "        \n",
    "    return S"
   ]
  },
  {
   "cell_type": "markdown",
   "id": "9d8975c0-f0c9-4e13-a46f-9c08108e1fde",
   "metadata": {},
   "source": [
    "## Modélisation\n",
    "Le problème s'agit d'une MAXIMISATION\n"
   ]
  },
  {
   "cell_type": "code",
   "execution_count": 8,
   "id": "c3467164-1f6a-4145-a5b5-9df58d585c6a",
   "metadata": {},
   "outputs": [],
   "source": [
    "prob = pulp.LpProblem(\"Optimisation_Production_Fruits_Rouges\", pulp.LpMaximize)     "
   ]
  },
  {
   "cell_type": "markdown",
   "id": "44746806-f0cf-4643-a387-5f550efd1639",
   "metadata": {},
   "source": [
    "## 1 Variables de Décision\n",
    "La modélisation utilise des variables de décision représentées par un tenseur tridimensionnel de variables binaires.\n",
    "\n",
    "Les variables de décision sont organisées dans un dictionnaire interprété comme un tenseur tridimensionnel de variables binaires, tel que :\n",
    " **X[ijk] = 1   si la serre \\( i \\) est choisie pour le scénario \\( j \\) et la semaine \\( k \\).**\n"
   ]
  },
  {
   "cell_type": "code",
   "execution_count": 9,
   "id": "9539631f-ba5b-41e3-a441-f5407a7b65b0",
   "metadata": {},
   "outputs": [],
   "source": [
    "X = {}   ## Variale de decision \n",
    "for i in Simulation.loc[:,'serre']:\n",
    "\n",
    "    for j in Production.loc[:,'Scénario' ]:\n",
    "        \n",
    "        for t in get_weeks_for_month(Production.loc[Production['Scénario'] == j].loc[:, 'Mois'].iloc[0]):\n",
    "            var_name = f\"x_{i}_{j}_{t}\"\n",
    "            X[(i, j, t)] = pulp.LpVariable(var_name, cat='Binary')\n",
    "            \n",
    "            \n",
    "            \n",
    "        \n",
    "        "
   ]
  },
  {
   "cell_type": "markdown",
   "id": "ae887fde-b168-4995-ae33-fbcd0011d882",
   "metadata": {},
   "source": [
    "#### 2 Formulation Mathématique\n",
    "\\\n",
    "\\begin{align*}\n",
    "\\text{maximize} \\quad & \\sum_{i=1}^{n_{\\text{serre}}} \\sum_{j \\in \\text{scénarios}} \\sum_{t \\in \\text{(semaines de scénario(j))}} X(i, j, t) \\cdot CA(i, j, t) - X(i, j, t) \\cdot CV(i, j) \\\\\n",
    "\\text{subject to:} \\quad & \\sum_{j \\in \\text{scénarios}} \\sum_{t \\in \\text{(semaines de scénario(j))}} X(i, j, t) = 1, \\quad \\forall i \\in \\{1, \\dots, n_{\\text{serre}}\\} \\\\\n",
    "& X(i, 5, t) = 0, \\quad \\forall i \\in \\{1, \\dots, n_{\\text{serre}}\\}, \\quad i \\notin \\text{secteur serre}(6), \\quad \\forall t \\in \\text{semaines de scénario(5)} \\\\\n",
    "& X(i, 4, t) = 0, \\quad \\forall i \\in \\{1, \\dots, n_{\\text{serre}}\\}, \\quad i \\notin \\text{secteur serre}(6), \\quad \\forall t \\in \\text{semaines de scénario(4)} \\\\\n",
    "& X(i, j, t) = 0, \\quad \\forall i \\in \\{1, \\dots, n_{\\text{serre}}\\}, \\quad i \\notin \\text{secteur serre}(5), \\quad \\forall j \\in \\{12, 13, 14, 18\\}, \\quad \\forall t \\in \\text{(semaines de scénario(j))} \\\\\n",
    "& X(i, j, t) = 0, \\quad \\forall i \\in \\{1, \\dots, n_{\\text{serre}}\\}, \\quad \\text{surface serre}(i) > 2.87, \\quad \\forall j \\in \\{12, 13, 14, 18\\}, \\quad \\forall t \\in \\text{semaines de scénario(j)}\n",
    "\\end{align*}\n",
    "\n"
   ]
  },
  {
   "cell_type": "code",
   "execution_count": 10,
   "id": "197dc238-f805-4379-9e47-fd63b262b158",
   "metadata": {},
   "outputs": [],
   "source": [
    "##Definition de la fonction objective\n",
    "objective = pulp.lpSum(\n",
    "    X[i, j, t] * CA(i, j, t) - X[i, j, t] * CV(i, j)\n",
    "    for i in Simulation.loc[:,'serre']\n",
    "    for j in Production.loc[:,'Scénario' ]\n",
    "    for t in get_weeks_for_month(Production.loc[Production['Scénario'] == j, 'Mois'].iloc[0])\n",
    "    \n",
    ")\n",
    "\n"
   ]
  },
  {
   "cell_type": "code",
   "execution_count": 11,
   "id": "1d6adc22-5856-4a1a-85a7-90f19f12725f",
   "metadata": {},
   "outputs": [],
   "source": [
    "prob += objective"
   ]
  },
  {
   "cell_type": "markdown",
   "id": "ee621465-3519-44a6-a37e-3d21274d6bef",
   "metadata": {},
   "source": [
    "Contrainte : chaque serre admet un seul scenario"
   ]
  },
  {
   "cell_type": "code",
   "execution_count": 12,
   "id": "bc1ae64d-4e80-4ea2-ae80-1ba4924a08a2",
   "metadata": {},
   "outputs": [],
   "source": [
    "for i in Simulation.loc[:, 'serre'] :    ##Contrainte : chaque serre admet un seul scenario\n",
    "    prob += pulp.lpSum(X[i, j, t] \n",
    "                       for j in Production.loc[:,'Scénario' ] \n",
    "                       for t in get_weeks_for_month(Production.loc[Production['Scénario'] == j, 'Mois'].iloc[0])\n",
    "                      ) == 1"
   ]
  },
  {
   "cell_type": "markdown",
   "id": "60814ad2-788e-4378-a695-7d5aa051803e",
   "metadata": {},
   "source": [
    "Contraintes spécifiques (voir formulation mathématique)"
   ]
  },
  {
   "cell_type": "code",
   "execution_count": 13,
   "id": "dcc7aff7-bb12-4c53-9eb0-bccf91cdf451",
   "metadata": {},
   "outputs": [],
   "source": [
    "secteur_6_serres = Simulation.loc[Simulation['secteur'] == 6, 'serre'].tolist()\n",
    "secteur_5_serres = Simulation.loc[Simulation['secteur'] == 5, 'serre'].tolist()\n",
    "surface_sup_287 = Simulation.loc[Simulation['SAU(ha)'] > 2.78, 'serre'].tolist()\n",
    "grouped_sectors = Simulation.groupby('secteur')['serre'].apply(list).to_dict()"
   ]
  },
  {
   "cell_type": "code",
   "execution_count": 14,
   "id": "74d9255d-e787-481e-8e36-635e50f30fa9",
   "metadata": {},
   "outputs": [],
   "source": [
    "for i in Simulation.loc[:, 'serre']:\n",
    "\n",
    "\n",
    "    ##Scénarios 4 et 5: Ne peuvent être exécutés que dans le secteur 6.\n",
    "    if not i in secteur_6_serres :  \n",
    "        for t in get_weeks_for_month(Production.loc[Production['Scénario'] == 5, 'Mois'].iloc[0]):\n",
    "            prob += X[i, 5, t] == 0\n",
    "           \n",
    "        for t in get_weeks_for_month(Production.loc[Production['Scénario'] == 4, 'Mois'].iloc[0]):\n",
    "           \n",
    "            prob += X[i, 4, t] == 0\n",
    "\n",
    "##Scénarios 12, 13, 14, 18: Limitées au secteur 5.\n",
    "    if not i in secteur_5_serres :\n",
    "        for j in [12, 13, 14, 18] :\n",
    "            for t in  get_weeks_for_month(Production.loc[Production['Scénario'] == j, 'Mois'].iloc[0]):\n",
    "                prob += X[i, j, t] == 0"
   ]
  },
  {
   "cell_type": "markdown",
   "id": "4aa6c7c9-d090-4b82-b9f4-3a57c5ef63ce",
   "metadata": {},
   "source": [
    "Scénarios 12, 13, 14, 18 : Limitées aux serres de moins de 2.87 hectares.\n",
    "\n",
    "Cette contrainte n'a pas d'impact car la base de données ne contient pas de serres dépassant cette taille. Elle est donc redondante pour cette base de données.\n"
   ]
  },
  {
   "cell_type": "code",
   "execution_count": 15,
   "id": "07893be3-722f-45f1-a782-123bc3325851",
   "metadata": {},
   "outputs": [],
   "source": [
    " if i in surface_sup_287 :\n",
    "        for j in [12, 13, 14, 18]: \n",
    "            for t in  get_weeks_for_month(Production.loc[Production['Scénario'] == j, 'Mois'].iloc[0]):\n",
    "                prob += X[i, j, t] == 0\n"
   ]
  },
  {
   "cell_type": "markdown",
   "id": "0ebcba69-20bf-42df-9dbb-d6f52c901dcf",
   "metadata": {},
   "source": [
    "Secteur doit avoir le même scénario choisi pour toutes ses serres.\n",
    "\n",
    "Cette contrainte ne change rien sur le résultat (peut être la base de donnée n'est pas assez grand pour remarquer la différence)"
   ]
  },
  {
   "cell_type": "code",
   "execution_count": 16,
   "id": "a73cabc2-51fb-4b24-af72-8992390a20b9",
   "metadata": {},
   "outputs": [],
   "source": [
    "for secteur, serres in grouped_sectors.items():\n",
    "   \n",
    "        for j in Production['Scénario']:\n",
    "            for t in get_weeks_for_month(Production.loc[Production['Scénario'] == j, 'Mois'].iloc[0]):\n",
    "              for s1 in serres:\n",
    "                for s2 in serres:\n",
    "                    if s1 != s2:\n",
    "                        prob += pulp.lpSum(X[s1, j, t] - X[s2, j, t]) == 0"
   ]
  },
  {
   "cell_type": "markdown",
   "id": "fba5c68d-3654-4408-9ff0-882ba36db72b",
   "metadata": {},
   "source": [
    "## Résolution de problème :"
   ]
  },
  {
   "cell_type": "code",
   "execution_count": 17,
   "id": "e0dc605d-5377-4c36-b976-174bcce6a44c",
   "metadata": {},
   "outputs": [
    {
     "data": {
      "text/plain": [
       "1"
      ]
     },
     "execution_count": 17,
     "metadata": {},
     "output_type": "execute_result"
    }
   ],
   "source": [
    "prob.solve()   ##Il ya une feasible solution"
   ]
  },
  {
   "cell_type": "markdown",
   "id": "05b7e39a-bcb3-4f06-b760-75aa127484e5",
   "metadata": {},
   "source": [
    "Il existe une solution OPTIMALE"
   ]
  },
  {
   "cell_type": "code",
   "execution_count": 18,
   "id": "3f406d27-1411-4be0-9184-bb3fafb4d5e8",
   "metadata": {},
   "outputs": [
    {
     "data": {
      "text/plain": [
       "'Optimal'"
      ]
     },
     "execution_count": 18,
     "metadata": {},
     "output_type": "execute_result"
    }
   ],
   "source": [
    "pulp.LpStatus[prob.status]"
   ]
  },
  {
   "cell_type": "markdown",
   "id": "797b13ea-028a-4913-bfa2-ce5ec8d53c8f",
   "metadata": {},
   "source": [
    "Pour avoir tout les valeurs de la solution optimale"
   ]
  },
  {
   "cell_type": "code",
   "execution_count": 19,
   "id": "f1d39993-328e-4a21-92e5-b1d0f600d2df",
   "metadata": {},
   "outputs": [],
   "source": [
    "#for v in prob.variables():\n",
    "    #print(v.name, \"=\", v.varValue)"
   ]
  },
  {
   "cell_type": "markdown",
   "id": "db6ca162-113e-45fb-80f2-0eea50dcdd2c",
   "metadata": {},
   "source": [
    "## Plottage de la solution optimale :"
   ]
  },
  {
   "cell_type": "code",
   "execution_count": 20,
   "id": "42595f54-5a8f-46ba-bf6c-dde392612022",
   "metadata": {},
   "outputs": [
    {
     "data": {
      "image/png": "[encoded data removed]",
      "text/plain": [
       "<Figure size 1000x600 with 1 Axes>"
      ]
     },
     "metadata": {},
     "output_type": "display_data"
    }
   ],
   "source": [
    "## Ploting des solutions\n",
    "\n",
    "import pandas as pd\n",
    "import matplotlib.pyplot as plt\n",
    "\n",
    "\n",
    "solution = []\n",
    "for v in prob.variables():\n",
    "    name = v.name\n",
    "    value = v.varValue\n",
    "    if value != 0:  \n",
    "        parts = name.split('_')\n",
    "        serre = int(parts[1])\n",
    "        scenario = int(parts[2])\n",
    "        week = int(parts[3])\n",
    "        solution.append((serre, scenario, week, value))\n",
    "\n",
    "\n",
    "df_solution = pd.DataFrame(solution, columns=['Serre', 'Scenario', 'Week', 'Value'])\n",
    "\n",
    "\n",
    "plt.figure(figsize=(10, 6))\n",
    "for scenario in df_solution['Scenario'].unique():\n",
    "    subset = df_solution[df_solution['Scenario'] == scenario]\n",
    "    plt.plot(subset['Week'], subset['Serre'], marker='o', label=f'Scenario {scenario}')\n",
    "\n",
    "plt.xlabel('Semaine')\n",
    "plt.ylabel('Serre')\n",
    "plt.title('Nombre de Serres par Scénario par Semaine')\n",
    "plt.legend()\n",
    "plt.grid(True)\n",
    "plt.show()"
   ]
  },
  {
   "cell_type": "markdown",
   "id": "8796193d-0c4f-43b3-8cbf-4801201e2d74",
   "metadata": {},
   "source": [
    "### Valeur de la fonction objective :"
   ]
  },
  {
   "cell_type": "code",
   "execution_count": 21,
   "id": "64d1e31f-bc02-45f5-bfdb-b7c5b7706a05",
   "metadata": {},
   "outputs": [
    {
     "data": {
      "text/plain": [
       "9577487.5"
      ]
     },
     "execution_count": 21,
     "metadata": {},
     "output_type": "execute_result"
    }
   ],
   "source": [
    "pulp.value(prob.objective)   ## Solution optimale "
   ]
  },
  {
   "cell_type": "markdown",
   "id": "c17750dc-fda1-4e07-91f1-0641f9b879db",
   "metadata": {},
   "source": [
    "## Remarque :\n",
    "Il est important de noter que la solution optimale est très sensible à la fonction `get_weeks_for_month`, qui donne les semaines par ordre pour chaque mois de 2024.\n",
    "\n",
    "Le problème réside dans le fait qu'une semaine peut être répartie entre deux mois. Prenons l'exemple des mois d'avril et de mai : si nous considérons que la semaine 18 appartient à mai, nous trouvons comme valeur maximale de la fonction objectif **9,5 millions**. Cependant, si nous la comptons avec avril, nous trouvons **11 millions**."
   ]
  },
  {
   "cell_type": "markdown",
   "id": "fd2d3e0e-267f-42d0-b8b3-10099979189e",
   "metadata": {},
   "source": [
    "## Remerciements\n",
    "\n",
    "Nous tenons à remercier **Anasse ESSALIH** pour ce projet très intéressant, ainsi que pour son engagement à répondre à toutes nos questions.\n",
    "\n",
    "Bien que les calculs manuels du **simplexe** aient été frustrants, la transition vers le codage nous a permis d'apprécier la beauté de la matière."
   ]
  }
 ],
 "metadata": {
  "kernelspec": {
   "display_name": "Python 3 (ipykernel)",
   "language": "python",
   "name": "python3"
  },
  "language_info": {
   "codemirror_mode": {
    "name": "ipython",
    "version": 3
   },
   "file_extension": ".py",
   "mimetype": "text/x-python",
   "name": "python",
   "nbconvert_exporter": "python",
   "pygments_lexer": "ipython3",
   "version": "3.12.1"
  }
 },
 "nbformat": 4,
 "nbformat_minor": 5
}
